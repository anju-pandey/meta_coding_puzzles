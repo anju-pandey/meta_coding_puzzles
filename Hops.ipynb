{
  "nbformat": 4,
  "nbformat_minor": 0,
  "metadata": {
    "colab": {
      "provenance": []
    },
    "kernelspec": {
      "name": "python3",
      "display_name": "Python 3"
    },
    "language_info": {
      "name": "python"
    }
  },
  "cells": [
    {
      "cell_type": "markdown",
      "source": [
        "Level 2\n",
        "\n",
        "Time limit: 5s\n",
        "\n",
        "A family of frogs in a pond are traveling towards dry land to hibernate. They hope to do so by hopping across a trail of N lily pads, numbered from 1 to N in order.\n",
        "\n",
        "There are F frogs, numbered from 1 to F. Frog i is currently perched atop lily pad Pi. No two frogs are currently on the same lily pad. Lily pad N is right next to the shore, and none of the frogs are initially on lily pad N.\n",
        "\n",
        "Each second, one frog may hop along the trail towards lily pad N. When a frog hops, it moves to the nearest lily pad after its current lily pad which is not currently occupied by another frog (hopping over any other frogs on intermediate lily pads along the way). If this causes it to reach lily pad N, it will immediately exit onto the shore. Multiple frogs may not simultaneously hop during the same second.\n",
        "\n",
        "Assuming the frogs work together optimally when deciding which frog should hop during each second, determine the minimum number of seconds required for all F of them to reach the shore.\n",
        "\n",
        "**Constraints**\n",
        "\n",
        "2 ≤ N ≤ (10 power 12 )\n",
        "\n",
        "\n",
        "1 ≤ F ≤ 500,000\n",
        "\n",
        "1 ≤ Pi ≤ N−1\n",
        "\n",
        "**Sample test case #1**\n",
        "\n",
        "N = 3\n",
        "\n",
        "F = 1\n",
        "\n",
        "P = [1]\n",
        "\n",
        "Expected Return Value = 2\n",
        "\n",
        "**Sample test case #2**\n",
        "\n",
        "N = 6\n",
        "\n",
        "F = 3\n",
        "\n",
        "P = [5, 2, 4]\n",
        "\n",
        "Expected Return Value = 4\n",
        "\n",
        "**Sample Explanation**\n",
        "\n",
        "In the first case, there are 3 lily pads and 1 frog. The frog is initially atop lily pad 1 and will take 2 hops to reach lily pad 3.\n",
        "\n",
        "In the second case, there are 6 lily pads, with frogs on lily pads 5, 2, and 4. Initially the lily pads and frog numbers can be represented as .2.31.\n",
        "\n",
        "One optimal sequence of hops is:\n",
        "\n",
        "1.\tFrog 2 hops forward to lily pad 3: ..231.\n",
        "\n",
        "2.\tFrog 2 hops over frogs 1 and 3, onto lily pad 6 and exiting onto the shore: ...31.\n",
        "\n",
        "3.\tFrog 3 hops over frog 1, onto lily pad 6 and exiting onto the shore: ....1.\n",
        "\n",
        "4.\tFrog 1 hops onto lily pad 6, exiting onto the shore.\n",
        "\n"
      ],
      "metadata": {
        "id": "SF_VKBTiuMq4"
      }
    },
    {
      "cell_type": "code",
      "source": [
        "#-------------------- Solution Description -----------------------#\n",
        "# The most optimal way is when the left most frog hops to the next\n",
        "# available spot.\n",
        "#\n",
        "# Sort the list.\n",
        "#\n",
        "# First, we will calculte the hops taken on the free pads available on the right side.\n",
        "#   In example 1, 2 and 3 are available spots. In example 2, 6 is the only available spot.\n",
        "#   On the last spot all the frogs will step on so that is F steps.\n",
        "#   Previous other steps will be counted as +1\n",
        "#\n",
        "# Second, find the number of hops taken between left and right most occupied pads.\n",
        "#   We will calculate this by taking difference.\n",
        "from typing import List\n",
        "# Write any import statements here\n",
        "\n",
        "def getSecondsRequired(N: int, F: int, P: List[int]) -> int:\n",
        "  # Write your code here\n",
        "\n",
        "  #sort the list\n",
        "  P=sorted(P)\n",
        "\n",
        "  # get last occupied pad\n",
        "  last_filled_pad=P[-1]\n",
        "\n",
        "  # calculate number of hops on the right side\n",
        "  total_of_right_steps=N-last_filled_pad-1+F\n",
        "\n",
        "  #calculate number of hops in between\n",
        "  between_steps=0\n",
        "  for i in range(F):\n",
        "    if i==F-1:break\n",
        "    between_steps=between_steps+P[i+1]-P[i]-1\n",
        "\n",
        "  return between_steps+total_of_right_steps\n"
      ],
      "metadata": {
        "id": "W56SX2WrvO9w"
      },
      "execution_count": null,
      "outputs": []
    }
  ]
}